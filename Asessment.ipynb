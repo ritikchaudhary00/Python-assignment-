{
 "cells": [
  {
   "cell_type": "code",
   "execution_count": 1,
   "id": "1e0e9df6-af5d-4a32-b8c2-2d5eee7e9e32",
   "metadata": {},
   "outputs": [
    {
     "name": "stdin",
     "output_type": "stream",
     "text": [
      "Enter a first number:  56\n",
      "Enter a second number:  56\n"
     ]
    },
    {
     "name": "stdout",
     "output_type": "stream",
     "text": [
      "The sum of 56 and 56 is 112\n",
      "The subtraction of 56 and 56 is 0\n",
      "The multiplication of 56 and 56 is 3136\n",
      "The division of 56 and 56 is 1.0\n"
     ]
    }
   ],
   "source": [
    "x = int(input(\"Enter a first number: \"))\n",
    "y = int(input(\"Enter a second number: \"))\n",
    "\n",
    "add = x + y\n",
    "sub = x - y\n",
    "multi = x * y\n",
    "div = x / y\n",
    "\n",
    "print(f\"The sum of {x} and {y} is {add}\")\n",
    "print(f\"The subtraction of {x} and {y} is {sub}\")\n",
    "print(f\"The multiplication of {x} and {y} is {multi}\")\n",
    "print(f\"The division of {x} and {y} is {div}\")"
   ]
  },
  {
   "cell_type": "code",
   "execution_count": 1,
   "id": "121a3dab-8cc0-4f37-a890-ce48471bc15c",
   "metadata": {},
   "outputs": [
    {
     "name": "stdin",
     "output_type": "stream",
     "text": [
      "Enter a number:  6\n"
     ]
    },
    {
     "name": "stdout",
     "output_type": "stream",
     "text": [
      "Factorial of 6 is 720\n"
     ]
    }
   ],
   "source": [
    "import mymath\n",
    "\n",
    "number = int(input(\"Enter a number: \"))\n",
    "result = mymath.factorial(number)\n",
    "print(f\"Factorial of {number} is {result}\")"
   ]
  },
  {
   "cell_type": "code",
   "execution_count": 2,
   "id": "5cac1ada-a787-42a3-97e4-6067193f97c7",
   "metadata": {},
   "outputs": [
    {
     "name": "stdin",
     "output_type": "stream",
     "text": [
      "Enter a decimal number:  45\n"
     ]
    },
    {
     "name": "stdout",
     "output_type": "stream",
     "text": [
      "The value in binary is 0b101101\n"
     ]
    }
   ],
   "source": [
    "x = int(input(\"Enter a decimal number: \"))\n",
    "y = bin(x)\n",
    "print(f\"The value in binary is {y}\")\n"
   ]
  },
  {
   "cell_type": "code",
   "execution_count": 3,
   "id": "8072c866-fcb6-4c39-8dd0-bc91a7211430",
   "metadata": {},
   "outputs": [
    {
     "name": "stdin",
     "output_type": "stream",
     "text": [
      "Enter the age:  45\n"
     ]
    },
    {
     "name": "stdout",
     "output_type": "stream",
     "text": [
      "Your are consider as a adult group.\n"
     ]
    }
   ],
   "source": [
    "age = int(input(\"Enter the age: \"))\n",
    "if(age<0):\n",
    "    print(\"Invaild age!!\")\n",
    "\n",
    "elif(age>=0 and age<=17):\n",
    "    print('Your are consider as a minor group.')\n",
    "\n",
    "elif(age>=18 and age <=59):\n",
    "    print('Your are consider as a adult group.')\n",
    "\n",
    "else:\n",
    "    print('You are consider as a senior group.')"
   ]
  },
  {
   "cell_type": "code",
   "execution_count": 4,
   "id": "8465ad0e-1e29-444d-8034-49455c715b6d",
   "metadata": {},
   "outputs": [
    {
     "name": "stdout",
     "output_type": "stream",
     "text": [
      "var1= 20\n",
      "var2= 10\n"
     ]
    }
   ],
   "source": [
    "var1 = 10\n",
    "var2 = 20\n",
    "\n",
    "#var1, var2 = var2, var1\n",
    "\n",
    "#print('var1=',var1)\n",
    "#print('var2=',var2)\n",
    "\n",
    "\n",
    "var1 = var1 + var2\n",
    "var2 = var1 - var2\n",
    "var1 = var1 - var2\n",
    "\n",
    "print('var1=',var1)\n",
    "print('var2=',var2)"
   ]
  },
  {
   "cell_type": "code",
   "execution_count": 5,
   "id": "6d1ca932-e3a4-42bd-8ca9-426745ac9d3c",
   "metadata": {},
   "outputs": [
    {
     "name": "stdout",
     "output_type": "stream",
     "text": [
      "The fibonacci Series of 10 is:\n",
      "0 1 1 2 3 5 8 13 21 34 "
     ]
    }
   ],
   "source": [
    "n = 10\n",
    "\n",
    "\n",
    "a = 0\n",
    "b = 1\n",
    "\n",
    "print(f'The fibonacci Series of {n} is:')\n",
    "\n",
    "for i in range(n):\n",
    "    print(a, end = \" \")\n",
    "    a , b = b, a+b\n",
    "    \n",
    "\n"
   ]
  },
  {
   "cell_type": "code",
   "execution_count": 8,
   "id": "f030ee0a-533a-48e0-844b-188561fd1c44",
   "metadata": {},
   "outputs": [
    {
     "name": "stdin",
     "output_type": "stream",
     "text": [
      "Enter a number:  56\n"
     ]
    },
    {
     "name": "stdout",
     "output_type": "stream",
     "text": [
      "56 is not a prime number.\n"
     ]
    }
   ],
   "source": [
    "def is_prime(number):\n",
    "    if number <= 1:\n",
    "        return False\n",
    "    elif number == 2:\n",
    "        return True\n",
    "    elif number % 2 == 0:\n",
    "        return False\n",
    "    for i in range(3, int(number ** 0.5) + 1, 2):\n",
    "        if number % i == 0:\n",
    "            return False\n",
    "    return True\n",
    "\n",
    "# Input from user\n",
    "num = int(input(\"Enter a number: \"))\n",
    "\n",
    "# Check and print result\n",
    "if is_prime(num):\n",
    "    print(num, \"is a prime number.\")\n",
    "else:\n",
    "    print(num, \"is not a prime number.\")\n"
   ]
  },
  {
   "cell_type": "code",
   "execution_count": 9,
   "id": "28640f2a-20db-4334-af3d-34a911672205",
   "metadata": {},
   "outputs": [
    {
     "name": "stdin",
     "output_type": "stream",
     "text": [
      "Enter the first number:  5\n",
      "Enter the second number:  4\n",
      "Enter the third number:  3\n"
     ]
    },
    {
     "name": "stdout",
     "output_type": "stream",
     "text": [
      "The third number is not sum of first two number.\n"
     ]
    }
   ],
   "source": [
    "a = int(input(\"Enter the first number: \"))\n",
    "b = int(input('Enter the second number: '))\n",
    "c = int(input(\"Enter the third number: \"))\n",
    "\n",
    "\n",
    "if (a + b == c) and True :\n",
    "    print(\"The third number is sum of first two number\")\n",
    "else:\n",
    "    print(\"The third number is not sum of first two number.\")"
   ]
  },
  {
   "cell_type": "code",
   "execution_count": 11,
   "id": "3f691abb-8ca6-4a0d-adad-3f43e7289657",
   "metadata": {},
   "outputs": [
    {
     "name": "stdin",
     "output_type": "stream",
     "text": [
      "Enter the first number:  5\n",
      "Enter the second number:  4\n"
     ]
    },
    {
     "name": "stdout",
     "output_type": "stream",
     "text": [
      "1.25\n"
     ]
    }
   ],
   "source": [
    "a = float(input('Enter the first number: '))\n",
    "b = float(input('Enter the second number: '))\n",
    "\n",
    "try: \n",
    "    result = a / b\n",
    "    print(result)\n",
    "\n",
    "except ZeroDivisionError:\n",
    "    print('Cannot divided by zero.')"
   ]
  },
  {
   "cell_type": "code",
   "execution_count": 12,
   "id": "d8273866-b3f8-4258-8603-14d2195bcc3b",
   "metadata": {},
   "outputs": [
    {
     "name": "stdout",
     "output_type": "stream",
     "text": [
      "The maximun numebr is 657\n"
     ]
    }
   ],
   "source": [
    "def maximum(numbers):\n",
    "    max_number = numbers[0]\n",
    "    for num in numbers:\n",
    "        if num>max_number:\n",
    "            max_number = num\n",
    "    print('The maximun numebr is', max_number)\n",
    "\n",
    "my_list = (1,23,4,2,34,43,45,45,65,46,47,657,6,5)\n",
    "\n",
    "maximum(my_list)"
   ]
  },
  {
   "cell_type": "code",
   "execution_count": 13,
   "id": "ab5c3f52-4d70-42b5-8e39-732b2a6b0130",
   "metadata": {},
   "outputs": [
    {
     "name": "stdout",
     "output_type": "stream",
     "text": [
      "Hello, This is Ram and I'm 60 years old.\n",
      "Hello, This is Hari and I'm 27 years old.\n"
     ]
    }
   ],
   "source": [
    "def greet(name, age = 27):\n",
    "    print(f\"Hello, This is {name} and I'm {age} years old.\")\n",
    "\n",
    "greet('Ram',60)\n",
    "greet('Hari')"
   ]
  },
  {
   "cell_type": "code",
   "execution_count": 14,
   "id": "75839610-7f58-4ba7-bd61-3c8b64a7a08d",
   "metadata": {},
   "outputs": [
    {
     "name": "stdin",
     "output_type": "stream",
     "text": [
      "Enter the string you want to count the number of vowel:  john\n"
     ]
    },
    {
     "name": "stdout",
     "output_type": "stream",
     "text": [
      "Total vowels number is 1\n"
     ]
    }
   ],
   "source": [
    "def vowel(s):\n",
    "    vowels = 'aeiouAEIOU'\n",
    "    count = 0\n",
    "    for i in s:\n",
    "        if i in vowels:\n",
    "            count += 1\n",
    "    return count\n",
    "\n",
    "    \n",
    "\n",
    "str1 = input('Enter the string you want to count the number of vowel: ')\n",
    "\n",
    "result = vowel(str1)\n",
    "\n",
    "print(f\"Total vowels number is {result}\")"
   ]
  },
  {
   "cell_type": "code",
   "execution_count": 15,
   "id": "17afc333-2d51-45d8-b51d-630e5ab1fe91",
   "metadata": {},
   "outputs": [
    {
     "name": "stdin",
     "output_type": "stream",
     "text": [
      "Enter the number:  5\n"
     ]
    },
    {
     "name": "stdout",
     "output_type": "stream",
     "text": [
      "5 x 1 = 5\n",
      "5 x 2 = 10\n",
      "5 x 3 = 15\n",
      "5 x 4 = 20\n",
      "5 x 5 = 25\n",
      "5 x 6 = 30\n",
      "5 x 7 = 35\n",
      "5 x 8 = 40\n",
      "5 x 9 = 45\n",
      "5 x 10 = 50\n"
     ]
    }
   ],
   "source": [
    "def mult(s):\n",
    "    for i in range (1,11):\n",
    "        print(f'{s} x {i} = {s*i}')\n",
    "\n",
    "n = int(input('Enter the number: '))\n",
    "\n",
    "mult(n)"
   ]
  },
  {
   "cell_type": "code",
   "execution_count": 16,
   "id": "bb20c9b7-7a86-4690-af74-91962ad057fd",
   "metadata": {},
   "outputs": [
    {
     "name": "stdin",
     "output_type": "stream",
     "text": [
      "Enter the number of rows:  4\n"
     ]
    },
    {
     "name": "stdout",
     "output_type": "stream",
     "text": [
      "*\n",
      "**\n",
      "***\n",
      "****\n"
     ]
    }
   ],
   "source": [
    "row = int(input('Enter the number of rows: '))\n",
    "for i in range(1, row+1):\n",
    "    print('*'*i)"
   ]
  },
  {
   "cell_type": "code",
   "execution_count": 17,
   "id": "0f870874-62f2-4e7f-961d-01b8106b3b31",
   "metadata": {},
   "outputs": [
    {
     "name": "stdin",
     "output_type": "stream",
     "text": [
      "Enter the number of rows:  6\n"
     ]
    },
    {
     "name": "stdout",
     "output_type": "stream",
     "text": [
      "     *\n",
      "    ***\n",
      "   *****\n",
      "  *******\n",
      " *********\n",
      "***********\n"
     ]
    }
   ],
   "source": [
    "rows = int(input(\"Enter the number of rows: \"))\n",
    "\n",
    "for i in range(rows):\n",
    "    space = ' '* (rows-i-1)\n",
    "    star = '*' * (2*i+1)\n",
    "    print(space +  star)"
   ]
  },
  {
   "cell_type": "code",
   "execution_count": 18,
   "id": "6512a87f-0d9d-4635-b9c9-766cb93ae208",
   "metadata": {},
   "outputs": [
    {
     "name": "stdin",
     "output_type": "stream",
     "text": [
      "Enter the number:  453\n"
     ]
    },
    {
     "name": "stdout",
     "output_type": "stream",
     "text": [
      "False\n"
     ]
    }
   ],
   "source": [
    "def palindrome(x):\n",
    "    return str(x)==str(x)[::-1]\n",
    "\n",
    "x = int(input('Enter the number: '))\n",
    "print(palindrome(x))"
   ]
  },
  {
   "cell_type": "code",
   "execution_count": 19,
   "id": "0829721f-5c2b-4238-af4c-e2d85b598437",
   "metadata": {},
   "outputs": [
    {
     "name": "stdout",
     "output_type": "stream",
     "text": [
      "Single number: 1\n"
     ]
    }
   ],
   "source": [
    "def single_number(nums):\n",
    "    result = 0\n",
    "    for num in nums:\n",
    "        result ^= num  \n",
    "    return result\n",
    "\n",
    "\n",
    "nums = [2, 2, 1]\n",
    "print(\"Single number:\", single_number(nums))"
   ]
  },
  {
   "cell_type": "code",
   "execution_count": 20,
   "id": "222daffa-d8b2-422a-bbd0-47cbd5f0a36c",
   "metadata": {},
   "outputs": [
    {
     "name": "stdout",
     "output_type": "stream",
     "text": [
      "Two Sum indices: [0, 1]\n"
     ]
    }
   ],
   "source": [
    "def two_sum(nums, target):\n",
    "    seen = {}\n",
    "    for i, num in enumerate(nums):\n",
    "        remaining = target - num\n",
    "        if remaining in seen:\n",
    "            return [seen[remaining], i]\n",
    "        seen[num] = i\n",
    "\n",
    "\n",
    "nums = [2, 7, 11, 15]\n",
    "target = 9\n",
    "print(\"Two Sum indices:\", two_sum(nums, target))  "
   ]
  },
  {
   "cell_type": "code",
   "execution_count": 21,
   "id": "5458f1e0-cc89-4766-9636-22fd29c29f49",
   "metadata": {},
   "outputs": [
    {
     "name": "stdin",
     "output_type": "stream",
     "text": [
      "Enter a number:  78\n"
     ]
    },
    {
     "name": "stdout",
     "output_type": "stream",
     "text": [
      "Is happy number: False\n"
     ]
    }
   ],
   "source": [
    "def is_happy(n):\n",
    "    seen = set()\n",
    "    while n != 1 and n not in seen:\n",
    "        seen.add(n)\n",
    "        n = sum(int(digit) ** 2 for digit in str(n))\n",
    "    return n == 1\n",
    "\n",
    "\n",
    "n = int(input(\"Enter a number: \"))\n",
    "print(\"Is happy number:\", is_happy(n))"
   ]
  },
  {
   "cell_type": "code",
   "execution_count": 22,
   "id": "de4408f3-776f-4492-a5f1-514dc767fd3c",
   "metadata": {},
   "outputs": [
    {
     "name": "stdout",
     "output_type": "stream",
     "text": [
      "Contains duplicate: True\n"
     ]
    }
   ],
   "source": [
    "def contains_duplicate(nums):\n",
    "    return len(nums) != len(set(nums))\n",
    "\n",
    "\n",
    "nums = [1, 2, 3, 1]\n",
    "print(\"Contains duplicate:\", contains_duplicate(nums))"
   ]
  },
  {
   "cell_type": "code",
   "execution_count": null,
   "id": "8978c60f-8601-4b3b-a682-a060c73fb26b",
   "metadata": {},
   "outputs": [],
   "source": []
  }
 ],
 "metadata": {
  "kernelspec": {
   "display_name": "Python [conda env:base] *",
   "language": "python",
   "name": "conda-base-py"
  },
  "language_info": {
   "codemirror_mode": {
    "name": "ipython",
    "version": 3
   },
   "file_extension": ".py",
   "mimetype": "text/x-python",
   "name": "python",
   "nbconvert_exporter": "python",
   "pygments_lexer": "ipython3",
   "version": "3.12.7"
  }
 },
 "nbformat": 4,
 "nbformat_minor": 5
}
